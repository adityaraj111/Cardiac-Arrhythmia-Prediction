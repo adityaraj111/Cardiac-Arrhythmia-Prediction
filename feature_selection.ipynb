{
 "cells": [
  {
   "cell_type": "code",
   "execution_count": 1,
   "metadata": {},
   "outputs": [],
   "source": [
    "import csv\n",
    "import numpy\n",
    "import pandas\n",
    "from sklearn.feature_selection import SelectKBest\n",
    "from sklearn.feature_selection import chi2\n",
    "from sklearn.decomposition import PCA\n",
    "from sklearn.ensemble import ExtraTreesClassifier"
   ]
  },
  {
   "cell_type": "code",
   "execution_count": 2,
   "metadata": {},
   "outputs": [],
   "source": [
    "def convert_strarr_floatarr( arr, X):\n",
    "    for i in range(0,452):\n",
    "        for j in range(0,278):\n",
    "            X[i][j]=arr[i][j].astype(numpy.float)\n",
    "    return"
   ]
  },
  {
   "cell_type": "markdown",
   "metadata": {},
   "source": [
    "#### Create Feature Matrix"
   ]
  },
  {
   "cell_type": "code",
   "execution_count": 6,
   "metadata": {},
   "outputs": [],
   "source": [
    "reader=csv.reader(open(\"feature.csv\",\"r\"),delimiter=\",\")\n",
    "X=list(reader)\n",
    "X=numpy.array(X)\n",
    "X=X.astype(numpy.float)"
   ]
  },
  {
   "cell_type": "markdown",
   "metadata": {},
   "source": [
    "##### Create Result vector"
   ]
  },
  {
   "cell_type": "code",
   "execution_count": 3,
   "metadata": {},
   "outputs": [],
   "source": [
    "reader=csv.reader(open(\"target_output.csv\",\"r\"),delimiter=\";\")\n",
    "Y=list(reader)\n",
    "Y=numpy.array(Y)\n",
    "Y=Y.astype(numpy.int)"
   ]
  },
  {
   "cell_type": "markdown",
   "metadata": {},
   "source": [
    "#### Applying PCA"
   ]
  },
  {
   "cell_type": "code",
   "execution_count": 4,
   "metadata": {},
   "outputs": [
    {
     "name": "stdout",
     "output_type": "stream",
     "text": [
      "[0.16014772 0.10648292 0.09130831 0.08940958 0.05615221 0.04920188\n",
      " 0.04422839 0.03617024 0.03154383 0.03025727 0.0239795  0.02243775\n",
      " 0.0216821  0.01852306 0.01651765 0.01450415 0.01333379 0.01265305\n",
      " 0.00978171 0.00926632 0.00817927 0.00772001 0.00721044 0.00674573\n",
      " 0.0063545  0.00587257 0.00561864 0.00533006 0.0051425  0.00480998\n",
      " 0.00448644 0.00431441 0.00402871 0.00377659 0.00351064 0.003254\n",
      " 0.00320197 0.00303113 0.00275826 0.00264274 0.00239652 0.0023558\n",
      " 0.00230473 0.00224504 0.00209614 0.00207817 0.00181944 0.00169272\n",
      " 0.0015527  0.00144827]\n"
     ]
    }
   ],
   "source": [
    "#applying PCA to get pricipal attributes\n",
    "pca = PCA(n_components=50)\n",
    "X=pca.fit_transform(X)\n",
    "\n",
    "print (pca.explained_variance_ratio_)\n",
    "\n",
    "numpy.savetxt(\"reduced_features_1.csv\",X, fmt='%s', delimiter=\",\")"
   ]
  },
  {
   "cell_type": "code",
   "execution_count": null,
   "metadata": {},
   "outputs": [],
   "source": []
  }
 ],
 "metadata": {
  "kernelspec": {
   "display_name": "Python 3",
   "language": "python",
   "name": "python3"
  },
  "language_info": {
   "codemirror_mode": {
    "name": "ipython",
    "version": 3
   },
   "file_extension": ".py",
   "mimetype": "text/x-python",
   "name": "python",
   "nbconvert_exporter": "python",
   "pygments_lexer": "ipython3",
   "version": "3.7.6"
  }
 },
 "nbformat": 4,
 "nbformat_minor": 2
}
