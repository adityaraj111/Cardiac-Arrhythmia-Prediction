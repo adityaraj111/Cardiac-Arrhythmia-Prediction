{
 "cells": [
  {
   "cell_type": "code",
   "execution_count": 1,
   "metadata": {},
   "outputs": [],
   "source": [
    "import csv\n",
    "import numpy"
   ]
  },
  {
   "cell_type": "markdown",
   "metadata": {},
   "source": [
    "### Data Preprocessing"
   ]
  },
  {
   "cell_type": "code",
   "execution_count": 2,
   "metadata": {},
   "outputs": [],
   "source": [
    "def mean_column(X, col_num):\n",
    "    mean=0.0\n",
    "    c=0\n",
    "    for i in range(0,452):\n",
    "        if(X[i][col_num] != \"?\"):\n",
    "            mean = mean+X[i][col_num].astype(numpy.float)\n",
    "            c=c+1\n",
    "    \n",
    "    mean=mean/c\n",
    "    return mean\n"
   ]
  },
  {
   "cell_type": "code",
   "execution_count": 3,
   "metadata": {},
   "outputs": [],
   "source": [
    "def standard_deviation_column( X, col_num, mean):\n",
    "    sd=0.0\n",
    "    c=0\n",
    "    for i in range(0,452):\n",
    "        if(X[i][col_num] !=\"?\"):\n",
    "            sd=(X[i][col_num].astype(numpy.float)-mean)**2\n",
    "            c=c+1\n",
    "    \n",
    "    sd=sd/(c-1)\n",
    "    sd=sd**0.5\n",
    "    return sd\n"
   ]
  },
  {
   "cell_type": "code",
   "execution_count": 4,
   "metadata": {},
   "outputs": [],
   "source": [
    "def convert_strarr_floatarr( arr, X):\n",
    "    for i in range(0,452):\n",
    "        for j in range(0,278):\n",
    "            if(arr[i][j]==\"?\"):\n",
    "                X[i][j]=0.0\n",
    "            else:\n",
    "                X[i][j]=arr[i][j].astype(numpy.float)\n",
    "    \n",
    "    return"
   ]
  },
  {
   "cell_type": "code",
   "execution_count": 7,
   "metadata": {},
   "outputs": [
    {
     "name": "stdout",
     "output_type": "stream",
     "text": [
      "408\n"
     ]
    }
   ],
   "source": [
    "reader = csv.reader(open(\"arrhythmia.csv\"), delimiter=\",\")\n",
    "arr=list(reader)\n",
    "arr=numpy.array(arr)\n",
    "data=numpy.zeros((452,2))\n",
    "c=0\n",
    "for i in range(0,452):\n",
    "    for j in range(0,279):\n",
    "        if(arr[i][j] ==\"?\"):\t\n",
    "            data[c][0]=i\n",
    "            data[c][1]=j\n",
    "            c=c+1\n",
    "print(c)"
   ]
  },
  {
   "cell_type": "code",
   "execution_count": 6,
   "metadata": {},
   "outputs": [
    {
     "name": "stdout",
     "output_type": "stream",
     "text": [
      "[['75' '0' '190' ... '23.3' '49.4' '8']\n",
      " ['56' '1' '165' ... '20.4' '38.8' '6']\n",
      " ['54' '0' '172' ... '12.3' '49.0' '10']\n",
      " ...\n",
      " ['36' '0' '166' ... '-44.2' '-33.2' '2']\n",
      " ['32' '1' '155' ... '25.0' '46.6' '1']\n",
      " ['78' '1' '160' ... '21.3' '32.8' '1']]\n"
     ]
    }
   ],
   "source": [
    "print(arr)"
   ]
  },
  {
   "cell_type": "code",
   "execution_count": 8,
   "metadata": {
    "collapsed": true
   },
   "outputs": [
    {
     "name": "stdout",
     "output_type": "stream",
     "text": [
      "4.0 14.0\n",
      "54.0 11.0\n",
      "59.0 11.0\n",
      "66.0 10.0\n",
      "91.0 10.0\n",
      "106.0 11.0\n",
      "108.0 11.0\n",
      "116.0 11.0\n",
      "133.0 11.0\n",
      "174.0 11.0\n",
      "177.0 11.0\n",
      "193.0 11.0\n",
      "200.0 10.0\n",
      "204.0 11.0\n",
      "212.0 10.0\n",
      "217.0 11.0\n",
      "219.0 11.0\n",
      "238.0 10.0\n",
      "241.0 12.0\n",
      "243.0 11.0\n",
      "253.0 11.0\n",
      "279.0 11.0\n",
      "284.0 11.0\n",
      "298.0 11.0\n",
      "300.0 11.0\n",
      "308.0 11.0\n",
      "310.0 11.0\n",
      "350.0 11.0\n",
      "360.0 10.0\n",
      "372.0 10.0\n",
      "412.0 10.0\n",
      "420.0 11.0\n"
     ]
    }
   ],
   "source": [
    "for i in range(0,c):\n",
    "    if(data[i][1]!=13):\n",
    "        print(data[i][0],data[i][1])"
   ]
  },
  {
   "cell_type": "code",
   "execution_count": 10,
   "metadata": {
    "collapsed": true
   },
   "outputs": [
    {
     "name": "stdout",
     "output_type": "stream",
     "text": [
      "[ 8  6 10  1  7 14  1  1  1 10  3  1 10  6  1  1 10  1  1  1  1  1  1  1\n",
      "  1 16 14 10  2  2  6  1  1  1  4  1  1 10  1  6  1  1  1  1  1  4  5  1\n",
      "  6  1  1  1 10 16 16  6  1  1  6  1  5  5  1  1  1  1  2  1  6  1  6 16\n",
      "  1  1  1 10  3  2  1  1  1  1  2  4  6  9  2  4  9  9  1  4  1  5 10  1\n",
      " 10  1  1  1  4  1  1  1  6  4  6  1  2  1  1  1  1  1  6  1 16  1  1  1\n",
      "  1  1  1  1  1  1  1 10  1  1  1  1  1  1 10  1  1 10  1  1  1  5  1  1\n",
      " 10 10 10  1  1 10  1  1  1  6 16  1  1  2  1  1  1  1  1  1  1  1  1  1\n",
      "  5  4  1  1  1 10 15  6  1  1  1  2  1 16  1  4  2  4  2  2 14  9  1  1\n",
      "  2  2  1  1  1 16 16  1  2  1  1  1  3  1  1  9  1 10 10  1  2  2  4  1\n",
      "  2 15  3 16  1  1  6  1 10  3  1 16  1  1  1  4  1  1  1  2  1  2  1  1\n",
      "  1  1  1 15  1  2  1  1  4  1 10  4  3  3  1  1  2  3  5  2  1 16  1  1\n",
      "  1  1 10  1  1  1  1  1  6  1  1  2  1  2 10  1  1  1  1  6 10  3  1  1\n",
      "  1  1  1 10  1 10  2  2  2 10 10  1 15  1  6  3  2  1 16  6  2  7  1  1\n",
      " 10 10  1  1  5  1  1 10  5  1  2  2 10  1 10  7  1  2  1  1 16  1 10  1\n",
      " 10  1  1  1 16 10  1  6 10  1 10  1  5  1  1  2  1 10 16  1  3  2  6  2\n",
      "  2  3 16 10  6  1  2  2  2  1  9  1  2  1  5  2  8  1  1 10 16  3  1  1\n",
      "  6  1 16  5  9  1  1  1  1  1  1  9  1 10  3  1 10 14  1  5  1  1  1  1\n",
      "  1 16  4  2 16  1  1  1  1 10  1  1 15  1  1  1  9  1  1 10  1 16 10  6\n",
      " 10  3  1  1  1  1  1  1  1  1  1 10  1  1  1  1 10  2  1  1]\n"
     ]
    }
   ],
   "source": [
    "arr = numpy.delete(arr,13,1)\n",
    "\n",
    "#create feature matrix\n",
    "X=numpy.zeros((452,278),dtype=numpy.float)\n",
    "convert_strarr_floatarr(arr,X)\n",
    "\n",
    "#create result vector\n",
    "y=numpy.zeros((452),dtype=numpy.int)\n",
    "for i in range(0,452):\n",
    "\ty[i]=arr[i][278].astype(numpy.int)\n",
    "print(y)\n"
   ]
  },
  {
   "cell_type": "code",
   "execution_count": 11,
   "metadata": {
    "collapsed": true
   },
   "outputs": [
    {
     "name": "stdout",
     "output_type": "stream",
     "text": [
      "4.0 14.0\n",
      "54.0 11.0\n",
      "59.0 11.0\n",
      "66.0 10.0\n",
      "91.0 10.0\n",
      "106.0 11.0\n",
      "108.0 11.0\n",
      "116.0 11.0\n",
      "133.0 11.0\n",
      "174.0 11.0\n",
      "177.0 11.0\n",
      "193.0 11.0\n",
      "200.0 10.0\n",
      "204.0 11.0\n",
      "212.0 10.0\n",
      "217.0 11.0\n",
      "219.0 11.0\n",
      "238.0 10.0\n",
      "241.0 12.0\n",
      "243.0 11.0\n",
      "253.0 11.0\n",
      "279.0 11.0\n",
      "284.0 11.0\n",
      "298.0 11.0\n",
      "300.0 11.0\n",
      "308.0 11.0\n",
      "310.0 11.0\n",
      "350.0 11.0\n",
      "360.0 10.0\n",
      "372.0 10.0\n",
      "412.0 10.0\n",
      "420.0 11.0\n"
     ]
    }
   ],
   "source": [
    "for i in range(0,c):\n",
    "    if(data[i][1]!=13):\n",
    "        print(data[i][0],data[i][1])"
   ]
  },
  {
   "cell_type": "code",
   "execution_count": 16,
   "metadata": {},
   "outputs": [
    {
     "name": "stdout",
     "output_type": "stream",
     "text": [
      "mean=74.29867256637168\n"
     ]
    }
   ],
   "source": [
    "#calculate mean for column 13(initially 14),11,10,12\n",
    "mean=mean_column(X,13)\n",
    "print(\"mean=\" + str(mean))\n",
    "sd=standard_deviation_column(X,13,mean)"
   ]
  },
  {
   "cell_type": "code",
   "execution_count": 20,
   "metadata": {},
   "outputs": [
    {
     "name": "stdout",
     "output_type": "stream",
     "text": [
      "[74.24689163]\n",
      "74.0\n",
      "mean=35.51106194690266\n"
     ]
    }
   ],
   "source": [
    "for i in range(0,452):\n",
    "    if(arr[i][13]==\"?\"):\n",
    "        val = numpy.random.normal(mean,sd,1)\n",
    "        print(val)\n",
    "        X[i][13]=(val).astype(numpy.int)\n",
    "        print(X[i][13])\n",
    "\n",
    "mean=mean_column(X,10)\n",
    "print(\"mean=\"+str(mean))\n",
    "sd=standard_deviation_column(X,10,mean)\n"
   ]
  },
  {
   "cell_type": "code",
   "execution_count": 22,
   "metadata": {},
   "outputs": [
    {
     "name": "stdout",
     "output_type": "stream",
     "text": [
      "[38.32808143]\n",
      "38.0\n",
      "[33.69411355]\n",
      "33.0\n",
      "[38.45393629]\n",
      "38.0\n",
      "[37.26935256]\n",
      "37.0\n",
      "[34.74386122]\n",
      "34.0\n",
      "[37.6396237]\n",
      "37.0\n",
      "[34.75045005]\n",
      "34.0\n",
      "[35.0794099]\n",
      "35.0\n",
      "mean=46.533185840707965\n"
     ]
    }
   ],
   "source": [
    "for i in range(0,452):\n",
    "    if(arr[i][10]==\"?\"):\n",
    "        val = numpy.random.normal(mean,sd,1)\n",
    "        print(val)\n",
    "        X[i][10]=(val).astype(numpy.int)\n",
    "        print(X[i][10])\n",
    "\n",
    "mean=mean_column(X,11)\n",
    "print(\"mean=\"+str(mean))\n",
    "sd=standard_deviation_column(X,11,mean)"
   ]
  },
  {
   "cell_type": "code",
   "execution_count": 25,
   "metadata": {
    "scrolled": true
   },
   "outputs": [
    {
     "name": "stdout",
     "output_type": "stream",
     "text": [
      "[46.73523064]\n",
      "46.0\n",
      "[46.66327361]\n",
      "46.0\n",
      "[46.78973967]\n",
      "46.0\n",
      "[46.72085234]\n",
      "46.0\n",
      "[46.63777427]\n",
      "46.0\n",
      "[46.27377459]\n",
      "46.0\n",
      "[46.512115]\n",
      "46.0\n",
      "[46.43197921]\n",
      "46.0\n",
      "[46.97028559]\n",
      "46.0\n",
      "[46.52031782]\n",
      "46.0\n",
      "[47.19452037]\n",
      "47.0\n",
      "[46.36942426]\n",
      "46.0\n",
      "[46.95243835]\n",
      "46.0\n",
      "[46.68905764]\n",
      "46.0\n",
      "[46.38486914]\n",
      "46.0\n",
      "[46.94998605]\n",
      "46.0\n",
      "[46.11496749]\n",
      "46.0\n",
      "[46.20567519]\n",
      "46.0\n",
      "[46.52188343]\n",
      "46.0\n",
      "[46.28765288]\n",
      "46.0\n",
      "[46.64252945]\n",
      "46.0\n",
      "[46.17523195]\n",
      "46.0\n",
      "mean=36.63495575221239\n"
     ]
    }
   ],
   "source": [
    "for i in range(0,452):\n",
    "    if(arr[i][11]==\"?\"):\n",
    "        val = numpy.random.normal(mean,sd,1)\n",
    "        print(val)\n",
    "        X[i][11]=(val).astype(numpy.int)\n",
    "        print(X[i][11])\n",
    "\n",
    "mean=mean_column(X,12)\n",
    "print(\"mean=\"+str(mean))\n",
    "sd=standard_deviation_column(X,12,mean)"
   ]
  },
  {
   "cell_type": "code",
   "execution_count": 26,
   "metadata": {},
   "outputs": [],
   "source": [
    "for i in range(0,452):\n",
    "    if (y[i]>=14):\n",
    "        y[i]=y[i]-3\n",
    "\n",
    "numpy.savetxt(\"feature.csv\", X, fmt='%s', delimiter=\",\")\n",
    "numpy.savetxt(\"target_output.csv\", y, fmt='%s', delimiter=\",\")"
   ]
  },
  {
   "cell_type": "code",
   "execution_count": null,
   "metadata": {},
   "outputs": [],
   "source": []
  }
 ],
 "metadata": {
  "kernelspec": {
   "display_name": "Python 3",
   "language": "python",
   "name": "python3"
  },
  "language_info": {
   "codemirror_mode": {
    "name": "ipython",
    "version": 3
   },
   "file_extension": ".py",
   "mimetype": "text/x-python",
   "name": "python",
   "nbconvert_exporter": "python",
   "pygments_lexer": "ipython3",
   "version": "3.7.4"
  }
 },
 "nbformat": 4,
 "nbformat_minor": 2
}
