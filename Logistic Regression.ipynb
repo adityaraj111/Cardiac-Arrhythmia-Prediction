{
 "cells": [
  {
   "cell_type": "code",
   "execution_count": 5,
   "metadata": {},
   "outputs": [],
   "source": [
    "import numpy\n",
    "import csv\n",
    "import math\n",
    "import operator\n",
    "import random"
   ]
  },
  {
   "cell_type": "code",
   "execution_count": 6,
   "metadata": {},
   "outputs": [],
   "source": [
    "from sklearn.linear_model import LogisticRegression\n",
    "import pandas as pd\n",
    "from sklearn.model_selection import train_test_split"
   ]
  },
  {
   "cell_type": "code",
   "execution_count": 7,
   "metadata": {},
   "outputs": [],
   "source": [
    "#create reduced feature matrix\n",
    "reader=csv.reader(open(\"reduced_features.csv\",\"r\"),delimiter=\",\")\n",
    "X=list(reader)\n",
    "X=numpy.array(X)\n",
    "X=X.astype(numpy.float)\n"
   ]
  },
  {
   "cell_type": "code",
   "execution_count": null,
   "metadata": {},
   "outputs": [],
   "source": []
  },
  {
   "cell_type": "code",
   "execution_count": 8,
   "metadata": {},
   "outputs": [],
   "source": [
    "#create result vector\n",
    "reader=csv.reader(open(\"target_output.csv\",\"r\"),delimiter=\",\")\n",
    "Y=list(reader)\n",
    "Y=numpy.array(Y)\n",
    "Y=Y.astype(numpy.int)\n",
    "Y=Y.ravel()\t"
   ]
  },
  {
   "cell_type": "code",
   "execution_count": 9,
   "metadata": {},
   "outputs": [],
   "source": [
    "X_train, X_test, Y_train, Y_test= train_test_split(X,Y,test_size=0.2, random_state=0)"
   ]
  },
  {
   "cell_type": "code",
   "execution_count": 10,
   "metadata": {},
   "outputs": [
    {
     "data": {
      "text/plain": [
       "175"
      ]
     },
     "execution_count": 10,
     "metadata": {},
     "output_type": "execute_result"
    }
   ],
   "source": [
    "X_train.shape[1]"
   ]
  },
  {
   "cell_type": "code",
   "execution_count": 23,
   "metadata": {
    "collapsed": true
   },
   "outputs": [
    {
     "name": "stderr",
     "output_type": "stream",
     "text": [
      "C:\\Users\\Legion\\Anaconda3\\lib\\site-packages\\sklearn\\linear_model\\logistic.py:432: FutureWarning: Default solver will be changed to 'lbfgs' in 0.22. Specify a solver to silence this warning.\n",
      "  FutureWarning)\n",
      "C:\\Users\\Legion\\Anaconda3\\lib\\site-packages\\sklearn\\linear_model\\logistic.py:469: FutureWarning: Default multi_class will be changed to 'auto' in 0.22. Specify the multi_class option to silence this warning.\n",
      "  \"this warning.\", FutureWarning)\n"
     ]
    },
    {
     "data": {
      "text/plain": [
       "LogisticRegression(C=1, class_weight=None, dual=False, fit_intercept=True,\n",
       "                   intercept_scaling=1, l1_ratio=None, max_iter=100,\n",
       "                   multi_class='warn', n_jobs=None, penalty='l2',\n",
       "                   random_state=None, solver='warn', tol=0.0001, verbose=0,\n",
       "                   warm_start=False)"
      ]
     },
     "execution_count": 23,
     "metadata": {},
     "output_type": "execute_result"
    }
   ],
   "source": [
    "clf = LogisticRegression(max_iter=100,C=1)\n",
    "clf.fit(X_train,Y_train)"
   ]
  },
  {
   "cell_type": "markdown",
   "metadata": {},
   "source": [
    "##### Train set"
   ]
  },
  {
   "cell_type": "code",
   "execution_count": 12,
   "metadata": {},
   "outputs": [
    {
     "name": "stdout",
     "output_type": "stream",
     "text": [
      "..................................Traing set................................\n"
     ]
    },
    {
     "name": "stderr",
     "output_type": "stream",
     "text": [
      "C:\\Users\\Legion\\Anaconda3\\lib\\site-packages\\sklearn\\linear_model\\logistic.py:432: FutureWarning: Default solver will be changed to 'lbfgs' in 0.22. Specify a solver to silence this warning.\n",
      "  FutureWarning)\n",
      "C:\\Users\\Legion\\Anaconda3\\lib\\site-packages\\sklearn\\linear_model\\logistic.py:469: FutureWarning: Default multi_class will be changed to 'auto' in 0.22. Specify the multi_class option to silence this warning.\n",
      "  \"this warning.\", FutureWarning)\n"
     ]
    },
    {
     "name": "stdout",
     "output_type": "stream",
     "text": [
      "[10  1 11  4  1  1  7  1  1  1  1  1  3 11 10  1  1  1  6  5  1  6  1  1\n",
      "  2 13  1  2 10 10  2  1 10  1  6  1  2  1  1  1  1  9  6 13  1 10  1  1\n",
      "  4 13 12  6  1  1 10  5 10  1  9  6  5  1 10  1  1  1 10  1  3  1  1  1\n",
      "  2 10  1  1  1 10  1  1  1 10  2  1  6  6  1  1  1  1  1 13 13  5  2  1\n",
      "  1  1  1  1  1  1  1  1  1  1 13  2  1  1 13  1  4  1  1  9  5  1  1 10\n",
      "  1  1 10  1  1  2 10  3  5  1  6  1  1 10 10  1 13  2 13  2  7  1  1 11\n",
      " 12  1 10 10  1  1  1  3 10  2 10  1  2  6  1  1 10  1  1  9  1  4  3  1\n",
      "  2  1  1  2  1  1  1  1  1  2  1  1  1 10 13  6  2  1  1  1  4  2  1  1\n",
      " 10  1 10  5  1  5  1  2  1 10 10  4  1  1  2  1  1  5  1  1  1  1  1  2\n",
      "  2  1 10  2  2  1  1  1  1  6  5  1  1  2 10  1  3  6  1  1  1 10  2  1\n",
      "  6  1  6  1  6  1  2  1  1  8  1 13  1  2  1  1  2 10  1  1 10  4  1  1\n",
      "  6 10  9  1 13  1  1 10  1  3  1  1  1  1 10  1  6  1  1  1  4  2  1  1\n",
      "  6 10  1  1  3  8  1  1  4  1  1  1  1  1 13  9  1  1  2  4  9  1  1  1\n",
      "  1  1  1 10  4  1  1  3 13  1  3 12  1  1  1  1 13 12  1  1  1  1  1 13\n",
      "  1  1  1 12  1  6  2  1  1  9  6  4  1  1  2  1 10  2  1  4  2  2  1  1\n",
      "  1]\n",
      "Training Set accuracy =  100.0\n",
      "Training Set error =  0.0\n"
     ]
    }
   ],
   "source": [
    "clf.fit(X_train, Y_train)\n",
    "print(clf.predict(X_train))\n",
    "score = clf.score(X_train, Y_train)\n",
    "print(\"Training Set accuracy = \", score*100)\n",
    "print(\"Training Set error = \", (1-score)*100)"
   ]
  },
  {
   "cell_type": "markdown",
   "metadata": {},
   "source": [
    "#### Test set Prediction"
   ]
  },
  {
   "cell_type": "code",
   "execution_count": 17,
   "metadata": {},
   "outputs": [
    {
     "name": "stdout",
     "output_type": "stream",
     "text": [
      "[ 1  2 10  1  1 10 10  2  1  6  3  1  1  1  2 13  4  6  2  3 13  1  6 11\n",
      " 10  1  1  1 10  2  1  1  1 10  2  1  6 13  2  3 10 12  1  1  1 10  1  1\n",
      "  6  1  1  1  1  1 10  1  1  1  5  4 10  3  2  1  2 13 10 10  1  1  1  1\n",
      "  1  1  1  1 13  1  1  1  1  1  6 13  1  6  6  1  2  5  1]\n",
      "Test Set accuracy =  60.43956043956044\n",
      "Test Set error =  39.56043956043956\n"
     ]
    }
   ],
   "source": [
    "print(clf.predict(X_test))\n",
    "score = clf.score(X_test, Y_test)\n",
    "print(\"Test Set accuracy = \", score*100)\n",
    "print(\"Test Set error = \",(1-score)*100)"
   ]
  },
  {
   "cell_type": "code",
   "execution_count": null,
   "metadata": {},
   "outputs": [],
   "source": []
  }
 ],
 "metadata": {
  "kernelspec": {
   "display_name": "Python 3",
   "language": "python",
   "name": "python3"
  },
  "language_info": {
   "codemirror_mode": {
    "name": "ipython",
    "version": 3
   },
   "file_extension": ".py",
   "mimetype": "text/x-python",
   "name": "python",
   "nbconvert_exporter": "python",
   "pygments_lexer": "ipython3",
   "version": "3.7.6"
  }
 },
 "nbformat": 4,
 "nbformat_minor": 2
}
